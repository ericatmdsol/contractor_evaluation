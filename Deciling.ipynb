{
 "cells": [
  {
   "cell_type": "code",
   "execution_count": null,
   "metadata": {},
   "outputs": [],
   "source": [
    "import pandas as pd\n",
    "import numpy as np\n",
    "import pyxlsb"
   ]
  },
  {
   "cell_type": "code",
   "execution_count": null,
   "metadata": {},
   "outputs": [],
   "source": [
    "df_v3 = pd.read_csv('NPI Community Analysis_BPD_SCZ_AD.csv', low_memory=False)"
   ]
  },
  {
   "cell_type": "code",
   "execution_count": null,
   "metadata": {},
   "outputs": [],
   "source": [
    "df_v3.columns"
   ]
  },
  {
   "cell_type": "code",
   "execution_count": null,
   "metadata": {},
   "outputs": [],
   "source": [
    "df_v3['ANTIPSYCHOTICS_IM_IV'] = df_v3['TYPICAL - IM_IV'] + df_v3['ATYPICAL - IM_IV']\n",
    "df_v3['ANTIPSYCHOTICS_ORALS'] = df_v3['TYPICAL - ORALS'] + df_v3['ATYPICAL - ORALS']"
   ]
  },
  {
   "cell_type": "code",
   "execution_count": null,
   "metadata": {},
   "outputs": [],
   "source": [
    "def percentile_calculator(df):\n",
    "    \n",
    "    bpd_claim_count_sum = df['BPD_CLAIM_COUNT'].sum()\n",
    "    scz_claim_count_sum = df['SCHIZO_CLAIM_COUNT'].sum()\n",
    "    df.loc[:,'BPD_SCORE'] = df['BPD_CLAIM_COUNT']/bpd_claim_count_sum\n",
    "    df.loc[:,'SCZ_SCORE'] = df['SCHIZO_CLAIM_COUNT']/scz_claim_count_sum\n",
    "    df['BPD + SCZ Score'] = 0.5*df['BPD_SCORE'] + 0.5*df['SCZ_SCORE']\n",
    "    df = df.sort_values(by = 'BPD + SCZ Score', ascending = False)\n",
    "    df['BPD + SCZ Score Cumsum'] = df['BPD + SCZ Score'].cumsum()\n",
    "    df['BPD + SCZ score percentile'] = df['BPD + SCZ Score Cumsum']/df['BPD + SCZ Score'].sum()\n",
    "    df['BPD + SCZ Decile'] = 0\n",
    "    df.loc[df['BPD + SCZ score percentile'].between(0, 0.1, inclusive='right'), 'BPD + SCZ Decile'] = 10\n",
    "    df.loc[df['BPD + SCZ score percentile'].between(0.1, 0.2, inclusive='right'), 'BPD + SCZ Decile'] = 9\n",
    "    df.loc[df['BPD + SCZ score percentile'].between(0.2, 0.3, inclusive='right'), 'BPD + SCZ Decile'] = 8\n",
    "    df.loc[df['BPD + SCZ score percentile'].between(0.3, 0.4, inclusive='right'), 'BPD + SCZ Decile'] = 7\n",
    "    df.loc[df['BPD + SCZ score percentile'].between(0.4, 0.5, inclusive='right'), 'BPD + SCZ Decile'] = 6\n",
    "    df.loc[df['BPD + SCZ score percentile'].between(0.5, 0.6, inclusive='right'), 'BPD + SCZ Decile'] = 5\n",
    "    df.loc[df['BPD + SCZ score percentile'].between(0.6, 0.7, inclusive='right'), 'BPD + SCZ Decile'] = 4\n",
    "    df.loc[df['BPD + SCZ score percentile'].between(0.7, 0.8, inclusive='right'), 'BPD + SCZ Decile'] = 3\n",
    "    df.loc[df['BPD + SCZ score percentile'].between(0.8, 0.9, inclusive='right'), 'BPD + SCZ Decile'] = 2\n",
    "    df.loc[df['BPD + SCZ score percentile'].between(0.9, 1.0, inclusive='right'), 'BPD + SCZ Decile'] = 1\n",
    "    \n",
    "    ANTIPSYCHOTICS_IM_IV_sum = df['ANTIPSYCHOTICS_IM_IV'].sum()\n",
    "    ANTIPSYCHOTICS_ORALS_sum = df['ANTIPSYCHOTICS_ORALS'].sum()\n",
    "    BENZO_IM_IV_sum = df['BENZO - IM_IV'].sum()\n",
    "    BENZO_ORALS_sum = df['BENZO - ORALS'].sum()\n",
    "    df['RX_SCORE'] = 0.44*(df['ANTIPSYCHOTICS_IM_IV']/ANTIPSYCHOTICS_IM_IV_sum) + \\\n",
    "                            0.19*(df['ANTIPSYCHOTICS_ORALS']/ANTIPSYCHOTICS_ORALS_sum) + \\\n",
    "                            0.27*(df['BENZO - IM_IV']/BENZO_IM_IV_sum) + \\\n",
    "                            0.10*(df['BENZO - ORALS']/BENZO_ORALS_sum) \n",
    "    df = df.sort_values(by = 'RX_SCORE', ascending = False)\n",
    "    df['RX_SCORE Cumsum'] = df['RX_SCORE'].cumsum()\n",
    "    df['RX_SCORE percentile'] = df['RX_SCORE Cumsum']/df['RX_SCORE'].sum()\n",
    "    df['RX_SCORE Decile'] = 0\n",
    "    df.loc[df['RX_SCORE percentile'].between(0, 0.1, inclusive='right'), 'RX_SCORE Decile'] = 10\n",
    "    df.loc[df['RX_SCORE percentile'].between(0.1, 0.2, inclusive='right'), 'RX_SCORE Decile'] = 9\n",
    "    df.loc[df['RX_SCORE percentile'].between(0.2, 0.3, inclusive='right'), 'RX_SCORE Decile'] = 8\n",
    "    df.loc[df['RX_SCORE percentile'].between(0.3, 0.4, inclusive='right'), 'RX_SCORE Decile'] = 7\n",
    "    df.loc[df['RX_SCORE percentile'].between(0.4, 0.5, inclusive='right'), 'RX_SCORE Decile'] = 6\n",
    "    df.loc[df['RX_SCORE percentile'].between(0.5, 0.6, inclusive='right'), 'RX_SCORE Decile'] = 5\n",
    "    df.loc[df['RX_SCORE percentile'].between(0.6, 0.7, inclusive='right'), 'RX_SCORE Decile'] = 4\n",
    "    df.loc[df['RX_SCORE percentile'].between(0.7, 0.8, inclusive='right'), 'RX_SCORE Decile'] = 3\n",
    "    df.loc[df['RX_SCORE percentile'].between(0.8, 0.9, inclusive='right'), 'RX_SCORE Decile'] = 2\n",
    "    df.loc[df['RX_SCORE percentile'].between(0.9, 1.0, inclusive='right'), 'RX_SCORE Decile'] = 1\n",
    "    \n",
    "    df['OVERALL SCORE BPD SCZ'] = 0.5*df['BPD + SCZ Score'] + 0.5*df['RX_SCORE']\n",
    "    df = df.sort_values(by = 'OVERALL SCORE BPD SCZ', ascending = False)\n",
    "    df['OVERALL SCORE BPD SCZ Cumsum'] = df['OVERALL SCORE BPD SCZ'].cumsum()\n",
    "    df['OVERALL SCORE BPD SCZ percentile'] = df['OVERALL SCORE BPD SCZ Cumsum']/df['OVERALL SCORE BPD SCZ'].sum()\n",
    "    df['OVERALL DECILE BPD SCZ'] = 0\n",
    "    df.loc[df['OVERALL SCORE BPD SCZ percentile'].between(0, 0.1, inclusive='right'), 'OVERALL DECILE BPD SCZ'] = 10\n",
    "    df.loc[df['OVERALL SCORE BPD SCZ percentile'].between(0.1, 0.2, inclusive='right'), 'OVERALL DECILE BPD SCZ'] = 9\n",
    "    df.loc[df['OVERALL SCORE BPD SCZ percentile'].between(0.2, 0.3, inclusive='right'), 'OVERALL DECILE BPD SCZ'] = 8\n",
    "    df.loc[df['OVERALL SCORE BPD SCZ percentile'].between(0.3, 0.4, inclusive='right'), 'OVERALL DECILE BPD SCZ'] = 7\n",
    "    df.loc[df['OVERALL SCORE BPD SCZ percentile'].between(0.4, 0.5, inclusive='right'), 'OVERALL DECILE BPD SCZ'] = 6\n",
    "    df.loc[df['OVERALL SCORE BPD SCZ percentile'].between(0.5, 0.6, inclusive='right'), 'OVERALL DECILE BPD SCZ'] = 5\n",
    "    df.loc[df['OVERALL SCORE BPD SCZ percentile'].between(0.6, 0.7, inclusive='right'), 'OVERALL DECILE BPD SCZ'] = 4\n",
    "    df.loc[df['OVERALL SCORE BPD SCZ percentile'].between(0.7, 0.8, inclusive='right'), 'OVERALL DECILE BPD SCZ'] = 3\n",
    "    df.loc[df['OVERALL SCORE BPD SCZ percentile'].between(0.8, 0.9, inclusive='right'), 'OVERALL DECILE BPD SCZ'] = 2\n",
    "    df.loc[df['OVERALL SCORE BPD SCZ percentile'].between(0.9, 1.0, inclusive='right'), 'OVERALL DECILE BPD SCZ'] = 1\n",
    "    \n",
    "    df = df.sort_values(by = 'AGITATION_CLAIM_COUNT', ascending = False)\n",
    "    df['Agitation cumsum'] = df.AGITATION_CLAIM_COUNT.cumsum()\n",
    "    df['Agitation percentile'] = df['Agitation cumsum']/df.AGITATION_CLAIM_COUNT.sum()\n",
    "    df['AGITATION_DECILE'] = 0\n",
    "    df.loc[df['Agitation percentile'].between(0, 0.1, inclusive='right'), 'AGITATION_DECILE'] = 10\n",
    "    df.loc[df['Agitation percentile'].between(0.1, 0.2, inclusive='right'), 'AGITATION_DECILE'] = 9\n",
    "    df.loc[df['Agitation percentile'].between(0.2, 0.3, inclusive='right'), 'AGITATION_DECILE'] = 8\n",
    "    df.loc[df['Agitation percentile'].between(0.3, 0.4, inclusive='right'), 'AGITATION_DECILE'] = 7\n",
    "    df.loc[df['Agitation percentile'].between(0.4, 0.5, inclusive='right'), 'AGITATION_DECILE'] = 6\n",
    "    df.loc[df['Agitation percentile'].between(0.5, 0.6, inclusive='right'), 'AGITATION_DECILE'] = 5\n",
    "    df.loc[df['Agitation percentile'].between(0.6, 0.7, inclusive='right'), 'AGITATION_DECILE'] = 4\n",
    "    df.loc[df['Agitation percentile'].between(0.7, 0.8, inclusive='right'), 'AGITATION_DECILE'] = 3\n",
    "    df.loc[df['Agitation percentile'].between(0.8, 0.9, inclusive='right'), 'AGITATION_DECILE'] = 2\n",
    "    df.loc[df['Agitation percentile'].between(0.9, 1.0, inclusive='right'), 'AGITATION_DECILE'] = 1\n",
    "    \n",
    "    ad_claim_count_sum = df['ALZHEIMERS_CLAIM_COUNT'].sum()\n",
    "    df['ALZHEIMERS_SCORE'] = df['ALZHEIMERS_CLAIM_COUNT']/ad_claim_count_sum\n",
    "    df = df.sort_values(by = 'ALZHEIMERS_SCORE', ascending = False)\n",
    "    df['ALZHEIMERS_SCORE Cumsum'] = df['ALZHEIMERS_SCORE'].cumsum()\n",
    "    df['ALZHEIMERS_SCORE percentile'] = df['ALZHEIMERS_SCORE Cumsum']/1\n",
    "    df['ALZHEIMERS_DECILE'] = 0\n",
    "    df.loc[df['ALZHEIMERS_SCORE percentile'].between(0, 0.1, inclusive='right'), 'ALZHEIMERS_DECILE'] = 10\n",
    "    df.loc[df['ALZHEIMERS_SCORE percentile'].between(0.1, 0.2, inclusive='right'), 'ALZHEIMERS_DECILE'] = 9\n",
    "    df.loc[df['ALZHEIMERS_SCORE percentile'].between(0.2, 0.3, inclusive='right'), 'ALZHEIMERS_DECILE'] = 8\n",
    "    df.loc[df['ALZHEIMERS_SCORE percentile'].between(0.3, 0.4, inclusive='right'), 'ALZHEIMERS_DECILE'] = 7\n",
    "    df.loc[df['ALZHEIMERS_SCORE percentile'].between(0.4, 0.5, inclusive='right'), 'ALZHEIMERS_DECILE'] = 6\n",
    "    df.loc[df['ALZHEIMERS_SCORE percentile'].between(0.5, 0.6, inclusive='right'), 'ALZHEIMERS_DECILE'] = 5\n",
    "    df.loc[df['ALZHEIMERS_SCORE percentile'].between(0.6, 0.7, inclusive='right'), 'ALZHEIMERS_DECILE'] = 4\n",
    "    df.loc[df['ALZHEIMERS_SCORE percentile'].between(0.7, 0.8, inclusive='right'), 'ALZHEIMERS_DECILE'] = 3\n",
    "    df.loc[df['ALZHEIMERS_SCORE percentile'].between(0.8, 0.9, inclusive='right'), 'ALZHEIMERS_DECILE'] = 2\n",
    "    df.loc[df['ALZHEIMERS_SCORE percentile'].between(0.9, 1.0, inclusive='right'), 'ALZHEIMERS_DECILE'] = 1\n",
    "\n",
    "    df['OVERALL SCORE AD'] = 0.5*df['ALZHEIMERS_SCORE'] + 0.5*df['RX_SCORE']\n",
    "    df = df.sort_values(by = 'OVERALL SCORE AD', ascending = False)\n",
    "    df['OVERALL SCORE AD Cumsum'] = df['OVERALL SCORE AD'].cumsum()\n",
    "    df['OVERALL SCORE AD percentile'] = df['OVERALL SCORE AD Cumsum']/df['OVERALL SCORE AD'].sum()\n",
    "    df['OVERALL DECILE AD'] = 0\n",
    "    df.loc[df['OVERALL SCORE AD percentile'].between(0, 0.1, inclusive='right'), 'OVERALL DECILE AD'] = 10\n",
    "    df.loc[df['OVERALL SCORE AD percentile'].between(0.1, 0.2, inclusive='right'), 'OVERALL DECILE AD'] = 9\n",
    "    df.loc[df['OVERALL SCORE AD percentile'].between(0.2, 0.3, inclusive='right'), 'OVERALL DECILE AD'] = 8\n",
    "    df.loc[df['OVERALL SCORE AD percentile'].between(0.3, 0.4, inclusive='right'), 'OVERALL DECILE AD'] = 7\n",
    "    df.loc[df['OVERALL SCORE AD percentile'].between(0.4, 0.5, inclusive='right'), 'OVERALL DECILE AD'] = 6\n",
    "    df.loc[df['OVERALL SCORE AD percentile'].between(0.5, 0.6, inclusive='right'), 'OVERALL DECILE AD'] = 5\n",
    "    df.loc[df['OVERALL SCORE AD percentile'].between(0.6, 0.7, inclusive='right'), 'OVERALL DECILE AD'] = 4\n",
    "    df.loc[df['OVERALL SCORE AD percentile'].between(0.7, 0.8, inclusive='right'), 'OVERALL DECILE AD'] = 3\n",
    "    df.loc[df['OVERALL SCORE AD percentile'].between(0.8, 0.9, inclusive='right'), 'OVERALL DECILE AD'] = 2\n",
    "    df.loc[df['OVERALL SCORE AD percentile'].between(0.9, 1.0, inclusive='right'), 'OVERALL DECILE AD'] = 1\n",
    "    \n",
    "    df['OVERALL_SCORE'] = 0.5*df['OVERALL SCORE BPD SCZ'] + 0.5*df['OVERALL SCORE AD']\n",
    "    df = df.sort_values(by = 'OVERALL_SCORE', ascending = False)\n",
    "    df['OVERALL SCORE Cumsum'] = df['OVERALL_SCORE'].cumsum()\n",
    "    df['OVERALL SCORE percentile'] = df['OVERALL SCORE Cumsum']/df['OVERALL_SCORE'].sum()\n",
    "    df['OVERALL_DECILE'] = 0\n",
    "    df.loc[df['OVERALL SCORE percentile'].between(0, 0.1, inclusive='right'), 'OVERALL_DECILE'] = 10\n",
    "    df.loc[df['OVERALL SCORE percentile'].between(0.1, 0.2, inclusive='right'), 'OVERALL_DECILE'] = 9\n",
    "    df.loc[df['OVERALL SCORE percentile'].between(0.2, 0.3, inclusive='right'), 'OVERALL_DECILE'] = 8\n",
    "    df.loc[df['OVERALL SCORE percentile'].between(0.3, 0.4, inclusive='right'), 'OVERALL_DECILE'] = 7\n",
    "    df.loc[df['OVERALL SCORE percentile'].between(0.4, 0.5, inclusive='right'), 'OVERALL_DECILE'] = 6\n",
    "    df.loc[df['OVERALL SCORE percentile'].between(0.5, 0.6, inclusive='right'), 'OVERALL_DECILE'] = 5\n",
    "    df.loc[df['OVERALL SCORE percentile'].between(0.6, 0.7, inclusive='right'), 'OVERALL_DECILE'] = 4\n",
    "    df.loc[df['OVERALL SCORE percentile'].between(0.7, 0.8, inclusive='right'), 'OVERALL_DECILE'] = 3\n",
    "    df.loc[df['OVERALL SCORE percentile'].between(0.8, 0.9, inclusive='right'), 'OVERALL_DECILE'] = 2\n",
    "    df.loc[df['OVERALL SCORE percentile'].between(0.9, 1.0, inclusive='right'), 'OVERALL_DECILE'] = 1\n",
    "    return df"
   ]
  },
  {
   "cell_type": "code",
   "execution_count": null,
   "metadata": {},
   "outputs": [],
   "source": [
    "df_v3_deciles = percentile_calculator(df_v3)"
   ]
  },
  {
   "cell_type": "code",
   "execution_count": null,
   "metadata": {},
   "outputs": [],
   "source": [
    "df_v3_deciles.groupby(['PRIMARY_SPECIALTY_GROUP_DESC','OVERALL_DECILE']).count()['NPI']"
   ]
  },
  {
   "cell_type": "code",
   "execution_count": null,
   "metadata": {},
   "outputs": [],
   "source": [
    "df_v3_deciles.columns"
   ]
  },
  {
   "cell_type": "code",
   "execution_count": null,
   "metadata": {},
   "outputs": [],
   "source": [
    "df_v2 = pd.read_csv('BPD SCZ Community Dataset Deciles v1 (11-8-2022)_submitted.csv', low_memory=False)"
   ]
  },
  {
   "cell_type": "code",
   "execution_count": null,
   "metadata": {},
   "outputs": [],
   "source": [
    "specialty_list = ['Psychiatry & Neurology','Behavioral Health & Social Services','Family Medicine',\\\n",
    "                 'Internal Medicine','Psychology','Emergency Medicine','Addiction Medicine',\\\n",
    "                 'Geriatric Medicine','Other Medical Specialties']"
   ]
  },
  {
   "cell_type": "code",
   "execution_count": null,
   "metadata": {},
   "outputs": [],
   "source": [
    "df_v2_specialty = df_v2.loc[(df_v2['PRIMARY_SPECIALTY_GROUP__V_desc'].isna()) | (df_v2['PRIMARY_SPECIALTY_GROUP__V_desc'].isin(specialty_list))]\n"
   ]
  },
  {
   "cell_type": "code",
   "execution_count": null,
   "metadata": {},
   "outputs": [],
   "source": [
    "df_v2_specialty = \\\n",
    "df_v2_specialty.loc[~((df_v2_specialty['ANTIPSYCHOTICS_IM_IV'] == 0) & (df_v2_specialty['ANTIPSYCHOTICS_ORALS'] == 0) & \\\n",
    "             (df_v2_specialty['BENZO - IM_IV'] == 0) & (df_v2_specialty['BENZO - ORALS'] == 0))]"
   ]
  },
  {
   "cell_type": "code",
   "execution_count": null,
   "metadata": {},
   "outputs": [],
   "source": [
    "bpd_claim_count_sum = df_v2_specialty['BPD_CLAIM_COUNT'].sum()\n",
    "scz_claim_count_sum = df_v2_specialty['SCHIZO_CLAIM_COUNT'].sum()"
   ]
  },
  {
   "cell_type": "code",
   "execution_count": null,
   "metadata": {},
   "outputs": [],
   "source": [
    "df_v2_specialty.loc[:,'BPD_SCORE'] = df_v2_specialty['BPD_CLAIM_COUNT']/bpd_claim_count_sum\n",
    "df_v2_specialty.loc[:,'SCZ_SCORE'] = df_v2_specialty['SCHIZO_CLAIM_COUNT']/scz_claim_count_sum\n",
    "df_v2_specialty['BPD + SCZ Score'] = 0.5*df_v2_specialty['BPD_SCORE'] + 0.5*df_v2_specialty['SCZ_SCORE']\n",
    "df_v2_specialty = df_v2_specialty.sort_values(by = 'BPD + SCZ Score', ascending = False)\n",
    "df_v2_specialty['BPD + SCZ Score Cumsum'] = df_v2_specialty['BPD + SCZ Score'].cumsum()\n",
    "df_v2_specialty['BPD + SCZ score percentile'] = df_v2_specialty['BPD + SCZ Score Cumsum']/df_v2_specialty['BPD + SCZ Score'].sum()\n"
   ]
  },
  {
   "cell_type": "code",
   "execution_count": null,
   "metadata": {},
   "outputs": [],
   "source": [
    "df_v2_specialty['BPD + SCZ Decile'] = 0\n",
    "df_v2_specialty.loc[df_v2_specialty['BPD + SCZ score percentile'].between(0, 0.1, inclusive='right'), 'BPD + SCZ Decile'] = 10\n",
    "df_v2_specialty.loc[df_v2_specialty['BPD + SCZ score percentile'].between(0.1, 0.2, inclusive='right'), 'BPD + SCZ Decile'] = 9\n",
    "df_v2_specialty.loc[df_v2_specialty['BPD + SCZ score percentile'].between(0.2, 0.3, inclusive='right'), 'BPD + SCZ Decile'] = 8\n",
    "df_v2_specialty.loc[df_v2_specialty['BPD + SCZ score percentile'].between(0.3, 0.4, inclusive='right'), 'BPD + SCZ Decile'] = 7\n",
    "df_v2_specialty.loc[df_v2_specialty['BPD + SCZ score percentile'].between(0.4, 0.5, inclusive='right'), 'BPD + SCZ Decile'] = 6\n",
    "df_v2_specialty.loc[df_v2_specialty['BPD + SCZ score percentile'].between(0.5, 0.6, inclusive='right'), 'BPD + SCZ Decile'] = 5\n",
    "df_v2_specialty.loc[df_v2_specialty['BPD + SCZ score percentile'].between(0.6, 0.7, inclusive='right'), 'BPD + SCZ Decile'] = 4\n",
    "df_v2_specialty.loc[df_v2_specialty['BPD + SCZ score percentile'].between(0.7, 0.8, inclusive='right'), 'BPD + SCZ Decile'] = 3\n",
    "df_v2_specialty.loc[df_v2_specialty['BPD + SCZ score percentile'].between(0.8, 0.9, inclusive='right'), 'BPD + SCZ Decile'] = 2\n",
    "df_v2_specialty.loc[df_v2_specialty['BPD + SCZ score percentile'].between(0.9, 1.0, inclusive='right'), 'BPD + SCZ Decile'] = 1"
   ]
  },
  {
   "cell_type": "code",
   "execution_count": null,
   "metadata": {},
   "outputs": [],
   "source": [
    "df_v2_specialty['BPD %'] = df_v2_specialty['BPD_SCORE']/(df_v2_specialty['BPD_SCORE'] + df_v2_specialty['SCZ_SCORE'])\n",
    "df_v2_specialty['SCZ %'] = df_v2_specialty['SCZ_SCORE']/(df_v2_specialty['BPD_SCORE'] + df_v2_specialty['SCZ_SCORE'])"
   ]
  },
  {
   "cell_type": "code",
   "execution_count": null,
   "metadata": {},
   "outputs": [],
   "source": [
    "bpd_scz_claim_count_sum = df_specialty['BPD_SCZ_CLAIM_COUNT'].sum()"
   ]
  },
  {
   "cell_type": "code",
   "execution_count": null,
   "metadata": {},
   "outputs": [],
   "source": [
    "df_specialty['BPD_SCZ_SCORE'] = df_specialty['BPD_SCZ_CLAIM_COUNT']/bpd_scz_claim_count_sum"
   ]
  },
  {
   "cell_type": "code",
   "execution_count": null,
   "metadata": {},
   "outputs": [],
   "source": [
    "df_specialty = df_specialty.sort_values(by = 'BPD_SCZ_SCORE', ascending = False)\n",
    "df_specialty['BPD_SCZ_SCORE Cumsum'] = df_specialty['BPD_SCZ_SCORE'].cumsum()\n",
    "df_specialty['BPD_SCZ_SCORE percentile'] = df_specialty['BPD_SCZ_SCORE Cumsum']/df_specialty['BPD_SCZ_SCORE'].sum()\n",
    "df_specialty['BPD_SCZ_DECILE'] = 0\n",
    "df_specialty.loc[df_specialty['BPD_SCZ_SCORE percentile'].between(0, 0.1, inclusive='right'), 'BPD_SCZ_DECILE'] = 10\n",
    "df_specialty.loc[df_specialty['BPD_SCZ_SCORE percentile'].between(0.1, 0.2, inclusive='right'), 'BPD_SCZ_DECILE'] = 9\n",
    "df_specialty.loc[df_specialty['BPD_SCZ_SCORE percentile'].between(0.2, 0.3, inclusive='right'), 'BPD_SCZ_DECILE'] = 8\n",
    "df_specialty.loc[df_specialty['BPD_SCZ_SCORE percentile'].between(0.3, 0.4, inclusive='right'), 'BPD_SCZ_DECILE'] = 7\n",
    "df_specialty.loc[df_specialty['BPD_SCZ_SCORE percentile'].between(0.4, 0.5, inclusive='right'), 'BPD_SCZ_DECILE'] = 6\n",
    "df_specialty.loc[df_specialty['BPD_SCZ_SCORE percentile'].between(0.5, 0.6, inclusive='right'), 'BPD_SCZ_DECILE'] = 5\n",
    "df_specialty.loc[df_specialty['BPD_SCZ_SCORE percentile'].between(0.6, 0.7, inclusive='right'), 'BPD_SCZ_DECILE'] = 4\n",
    "df_specialty.loc[df_specialty['BPD_SCZ_SCORE percentile'].between(0.7, 0.8, inclusive='right'), 'BPD_SCZ_DECILE'] = 3\n",
    "df_specialty.loc[df_specialty['BPD_SCZ_SCORE percentile'].between(0.8, 0.9, inclusive='right'), 'BPD_SCZ_DECILE'] = 2\n",
    "df_specialty.loc[df_specialty['BPD_SCZ_SCORE percentile'].between(0.9, 1.0, inclusive='right'), 'BPD_SCZ_DECILE'] = 1"
   ]
  },
  {
   "cell_type": "code",
   "execution_count": null,
   "metadata": {},
   "outputs": [],
   "source": [
    "ANTIPSYCHOTICS_IM_IV_sum = df_specialty['ANTIPSYCHOTICS_IM_IV'].sum()\n",
    "ANTIPSYCHOTICS_ORALS_sum = df_specialty['ANTIPSYCHOTICS_ORALS'].sum()\n",
    "BENZO_IM_IV_sum = df_specialty['BENZO - IM_IV'].sum()\n",
    "BENZO_ORALS_sum = df_specialty['BENZO - ORALS'].sum()"
   ]
  },
  {
   "cell_type": "code",
   "execution_count": null,
   "metadata": {},
   "outputs": [],
   "source": [
    "df_specialty['RX_SCORE'] = 0.44*(df_specialty['ANTIPSYCHOTICS_IM_IV']/ANTIPSYCHOTICS_IM_IV_sum) + \\\n",
    "                            0.19*(df_specialty['ANTIPSYCHOTICS_ORALS']/ANTIPSYCHOTICS_ORALS_sum) + \\\n",
    "                            0.27*(df_specialty['BENZO - IM_IV']/BENZO_IM_IV_sum) + \\\n",
    "                            0.10*(df_specialty['BENZO - ORALS']/BENZO_ORALS_sum) "
   ]
  },
  {
   "cell_type": "code",
   "execution_count": null,
   "metadata": {},
   "outputs": [],
   "source": [
    "df_specialty = df_specialty.sort_values(by = 'RX_SCORE', ascending = False)\n",
    "df_specialty['RX_SCORE Cumsum'] = df_specialty['RX_SCORE'].cumsum()\n",
    "df_specialty['RX_SCORE percentile'] = df_specialty['RX_SCORE Cumsum']/df_specialty['RX_SCORE'].sum()\n",
    "df_specialty['RX_SCORE Decile'] = 0\n",
    "df_specialty.loc[df_specialty['RX_SCORE percentile'].between(0, 0.1, inclusive='right'), 'RX_SCORE Decile'] = 10\n",
    "df_specialty.loc[df_specialty['RX_SCORE percentile'].between(0.1, 0.2, inclusive='right'), 'RX_SCORE Decile'] = 9\n",
    "df_specialty.loc[df_specialty['RX_SCORE percentile'].between(0.2, 0.3, inclusive='right'), 'RX_SCORE Decile'] = 8\n",
    "df_specialty.loc[df_specialty['RX_SCORE percentile'].between(0.3, 0.4, inclusive='right'), 'RX_SCORE Decile'] = 7\n",
    "df_specialty.loc[df_specialty['RX_SCORE percentile'].between(0.4, 0.5, inclusive='right'), 'RX_SCORE Decile'] = 6\n",
    "df_specialty.loc[df_specialty['RX_SCORE percentile'].between(0.5, 0.6, inclusive='right'), 'RX_SCORE Decile'] = 5\n",
    "df_specialty.loc[df_specialty['RX_SCORE percentile'].between(0.6, 0.7, inclusive='right'), 'RX_SCORE Decile'] = 4\n",
    "df_specialty.loc[df_specialty['RX_SCORE percentile'].between(0.7, 0.8, inclusive='right'), 'RX_SCORE Decile'] = 3\n",
    "df_specialty.loc[df_specialty['RX_SCORE percentile'].between(0.8, 0.9, inclusive='right'), 'RX_SCORE Decile'] = 2\n",
    "df_specialty.loc[df_specialty['RX_SCORE percentile'].between(0.9, 1.0, inclusive='right'), 'RX_SCORE Decile'] = 1"
   ]
  },
  {
   "cell_type": "code",
   "execution_count": null,
   "metadata": {},
   "outputs": [],
   "source": [
    "df_specialty['OVERALL SCORE'] = 0.5*df_specialty['BPD_SCZ_SCORE'] + 0.5*df_specialty['RX_SCORE']"
   ]
  },
  {
   "cell_type": "code",
   "execution_count": null,
   "metadata": {},
   "outputs": [],
   "source": [
    "df_specialty = df_specialty.sort_values(by = 'OVERALL SCORE', ascending = False)\n",
    "df_specialty['OVERALL SCORE Cumsum'] = df_specialty['OVERALL SCORE'].cumsum()\n",
    "df_specialty['OVERALL SCORE percentile'] = df_specialty['OVERALL SCORE Cumsum']/df_specialty['OVERALL SCORE'].sum()\n",
    "df_specialty['OVERALL DECILE'] = 0\n",
    "df_specialty.loc[df_specialty['OVERALL SCORE percentile'].between(0, 0.1, inclusive='right'), 'OVERALL DECILE'] = 10\n",
    "df_specialty.loc[df_specialty['OVERALL SCORE percentile'].between(0.1, 0.2, inclusive='right'), 'OVERALL DECILE'] = 9\n",
    "df_specialty.loc[df_specialty['OVERALL SCORE percentile'].between(0.2, 0.3, inclusive='right'), 'OVERALL DECILE'] = 8\n",
    "df_specialty.loc[df_specialty['OVERALL SCORE percentile'].between(0.3, 0.4, inclusive='right'), 'OVERALL DECILE'] = 7\n",
    "df_specialty.loc[df_specialty['OVERALL SCORE percentile'].between(0.4, 0.5, inclusive='right'), 'OVERALL DECILE'] = 6\n",
    "df_specialty.loc[df_specialty['OVERALL SCORE percentile'].between(0.5, 0.6, inclusive='right'), 'OVERALL DECILE'] = 5\n",
    "df_specialty.loc[df_specialty['OVERALL SCORE percentile'].between(0.6, 0.7, inclusive='right'), 'OVERALL DECILE'] = 4\n",
    "df_specialty.loc[df_specialty['OVERALL SCORE percentile'].between(0.7, 0.8, inclusive='right'), 'OVERALL DECILE'] = 3\n",
    "df_specialty.loc[df_specialty['OVERALL SCORE percentile'].between(0.8, 0.9, inclusive='right'), 'OVERALL DECILE'] = 2\n",
    "df_specialty.loc[df_specialty['OVERALL SCORE percentile'].between(0.9, 1.0, inclusive='right'), 'OVERALL DECILE'] = 1"
   ]
  },
  {
   "cell_type": "code",
   "execution_count": null,
   "metadata": {},
   "outputs": [],
   "source": [
    "df_specialty = df_specialty.sort_values(by = 'BPD_CLAIM_COUNT', ascending = False)\n",
    "df_specialty['BPD cumsum'] = df_specialty.BPD_CLAIM_COUNT.cumsum()\n",
    "df_specialty['BPD percentile'] = df_specialty['BPD cumsum']/df_specialty.BPD_CLAIM_COUNT.sum()\n",
    "df_specialty['BPD DECILE'] = 0\n",
    "df_specialty.loc[df_specialty['BPD percentile'].between(0, 0.1, inclusive='right'), 'BPD DECILE'] = 10\n",
    "df_specialty.loc[df_specialty['BPD percentile'].between(0.1, 0.2, inclusive='right'), 'BPD DECILE'] = 9\n",
    "df_specialty.loc[df_specialty['BPD percentile'].between(0.2, 0.3, inclusive='right'), 'BPD DECILE'] = 8\n",
    "df_specialty.loc[df_specialty['BPD percentile'].between(0.3, 0.4, inclusive='right'), 'BPD DECILE'] = 7\n",
    "df_specialty.loc[df_specialty['BPD percentile'].between(0.4, 0.5, inclusive='right'), 'BPD DECILE'] = 6\n",
    "df_specialty.loc[df_specialty['BPD percentile'].between(0.5, 0.6, inclusive='right'), 'BPD DECILE'] = 5\n",
    "df_specialty.loc[df_specialty['BPD percentile'].between(0.6, 0.7, inclusive='right'), 'BPD DECILE'] = 4\n",
    "df_specialty.loc[df_specialty['BPD percentile'].between(0.7, 0.8, inclusive='right'), 'BPD DECILE'] = 3\n",
    "df_specialty.loc[df_specialty['BPD percentile'].between(0.8, 0.9, inclusive='right'), 'BPD DECILE'] = 2\n",
    "df_specialty.loc[df_specialty['BPD percentile'].between(0.9, 1.0, inclusive='right'), 'BPD DECILE'] = 1"
   ]
  },
  {
   "cell_type": "code",
   "execution_count": null,
   "metadata": {},
   "outputs": [],
   "source": [
    "df_specialty = df_specialty.sort_values(by = 'SCHIZO_CLAIM_COUNT', ascending = False)\n",
    "df_specialty['SCZ cumsum'] = df_specialty.SCHIZO_CLAIM_COUNT.cumsum()\n",
    "df_specialty['SCZ percentile'] = df_specialty['SCZ cumsum']/df_specialty.SCHIZO_CLAIM_COUNT.sum()\n",
    "df_specialty['SCZ DECILE'] = 0\n",
    "df_specialty.loc[df_specialty['SCZ percentile'].between(0, 0.1, inclusive='right'), 'SCZ DECILE'] = 10\n",
    "df_specialty.loc[df_specialty['SCZ percentile'].between(0.1, 0.2, inclusive='right'), 'SCZ DECILE'] = 9\n",
    "df_specialty.loc[df_specialty['SCZ percentile'].between(0.2, 0.3, inclusive='right'), 'SCZ DECILE'] = 8\n",
    "df_specialty.loc[df_specialty['SCZ percentile'].between(0.3, 0.4, inclusive='right'), 'SCZ DECILE'] = 7\n",
    "df_specialty.loc[df_specialty['SCZ percentile'].between(0.4, 0.5, inclusive='right'), 'SCZ DECILE'] = 6\n",
    "df_specialty.loc[df_specialty['SCZ percentile'].between(0.5, 0.6, inclusive='right'), 'SCZ DECILE'] = 5\n",
    "df_specialty.loc[df_specialty['SCZ percentile'].between(0.6, 0.7, inclusive='right'), 'SCZ DECILE'] = 4\n",
    "df_specialty.loc[df_specialty['SCZ percentile'].between(0.7, 0.8, inclusive='right'), 'SCZ DECILE'] = 3\n",
    "df_specialty.loc[df_specialty['SCZ percentile'].between(0.8, 0.9, inclusive='right'), 'SCZ DECILE'] = 2\n",
    "df_specialty.loc[df_specialty['SCZ percentile'].between(0.9, 1.0, inclusive='right'), 'SCZ DECILE'] = 1"
   ]
  },
  {
   "cell_type": "code",
   "execution_count": null,
   "metadata": {},
   "outputs": [],
   "source": [
    "df_specialty.AGITATION_CLAIM_COUNT.sum()"
   ]
  },
  {
   "cell_type": "code",
   "execution_count": null,
   "metadata": {},
   "outputs": [],
   "source": [
    "df_specialty = df_specialty.sort_values(by = 'AGITATION_CLAIM_COUNT', ascending = False)\n",
    "df_specialty['Agitation cumsum'] = df_specialty.AGITATION_CLAIM_COUNT.cumsum()\n",
    "df_specialty['Agitation percentile'] = df_specialty['Agitation cumsum']/df_specialty.AGITATION_CLAIM_COUNT.sum()\n",
    "df_specialty['AGITATION_DECILE'] = 0\n",
    "df_specialty.loc[df_specialty['Agitation percentile'].between(0, 0.1, inclusive='right'), 'AGITATION_DECILE'] = 10\n",
    "df_specialty.loc[df_specialty['Agitation percentile'].between(0.1, 0.2, inclusive='right'), 'AGITATION_DECILE'] = 9\n",
    "df_specialty.loc[df_specialty['Agitation percentile'].between(0.2, 0.3, inclusive='right'), 'AGITATION_DECILE'] = 8\n",
    "df_specialty.loc[df_specialty['Agitation percentile'].between(0.3, 0.4, inclusive='right'), 'AGITATION_DECILE'] = 7\n",
    "df_specialty.loc[df_specialty['Agitation percentile'].between(0.4, 0.5, inclusive='right'), 'AGITATION_DECILE'] = 6\n",
    "df_specialty.loc[df_specialty['Agitation percentile'].between(0.5, 0.6, inclusive='right'), 'AGITATION_DECILE'] = 5\n",
    "df_specialty.loc[df_specialty['Agitation percentile'].between(0.6, 0.7, inclusive='right'), 'AGITATION_DECILE'] = 4\n",
    "df_specialty.loc[df_specialty['Agitation percentile'].between(0.7, 0.8, inclusive='right'), 'AGITATION_DECILE'] = 3\n",
    "df_specialty.loc[df_specialty['Agitation percentile'].between(0.8, 0.9, inclusive='right'), 'AGITATION_DECILE'] = 2\n",
    "df_specialty.loc[df_specialty['Agitation percentile'].between(0.9, 1.0, inclusive='right'), 'AGITATION_DECILE'] = 1"
   ]
  },
  {
   "cell_type": "code",
   "execution_count": null,
   "metadata": {},
   "outputs": [],
   "source": [
    "agitation_claim_count_sum = df_specialty['AGITATION_CLAIM_COUNT'].sum()\n",
    "bpd_scz_claim_count_sum = df_specialty['BPD_SCZ_CLAIM_COUNT'].sum()"
   ]
  },
  {
   "cell_type": "code",
   "execution_count": null,
   "metadata": {},
   "outputs": [],
   "source": [
    "df_specialty['BPD_SCZ_AGITATION_SCORE'] = 0.5*df_specialty['AGITATION_CLAIM_COUNT']/agitation_claim_count_sum + \\\n",
    "                                            0.5*df_specialty['BPD_SCZ_CLAIM_COUNT']/bpd_scz_claim_count_sum "
   ]
  },
  {
   "cell_type": "code",
   "execution_count": null,
   "metadata": {},
   "outputs": [],
   "source": [
    "df_specialty = df_specialty.sort_values(by = 'BPD_SCZ_AGITATION_SCORE', ascending = False)"
   ]
  },
  {
   "cell_type": "code",
   "execution_count": null,
   "metadata": {},
   "outputs": [],
   "source": [
    "df_specialty['BPD_SCZ_AGITATION_SCORE Cumsum'] = df_specialty['BPD_SCZ_AGITATION_SCORE'].cumsum()"
   ]
  },
  {
   "cell_type": "code",
   "execution_count": null,
   "metadata": {},
   "outputs": [],
   "source": [
    "df_specialty['BPD_SCZ_AGITATION_SCORE percentile'] = df_specialty['BPD_SCZ_AGITATION_SCORE Cumsum']/ \\\n",
    "                                             df_specialty['BPD_SCZ_AGITATION_SCORE'].sum()\n"
   ]
  },
  {
   "cell_type": "code",
   "execution_count": null,
   "metadata": {},
   "outputs": [],
   "source": [
    "df_specialty['BPD/SCZ + AGITATION DECILE'] = 0\n",
    "df_specialty.loc[df_specialty['BPD_SCZ_AGITATION_SCORE percentile'].between(0, 0.1, inclusive='right'), 'BPD/SCZ + AGITATION DECILE'] = 10\n",
    "df_specialty.loc[df_specialty['BPD_SCZ_AGITATION_SCORE percentile'].between(0.1, 0.2, inclusive='right'), 'BPD/SCZ + AGITATION DECILE'] = 9\n",
    "df_specialty.loc[df_specialty['BPD_SCZ_AGITATION_SCORE percentile'].between(0.2, 0.3, inclusive='right'), 'BPD/SCZ + AGITATION DECILE'] = 8\n",
    "df_specialty.loc[df_specialty['BPD_SCZ_AGITATION_SCORE percentile'].between(0.3, 0.4, inclusive='right'), 'BPD/SCZ + AGITATION DECILE'] = 7\n",
    "df_specialty.loc[df_specialty['BPD_SCZ_AGITATION_SCORE percentile'].between(0.4, 0.5, inclusive='right'), 'BPD/SCZ + AGITATION DECILE'] = 6\n",
    "df_specialty.loc[df_specialty['BPD_SCZ_AGITATION_SCORE percentile'].between(0.5, 0.6, inclusive='right'), 'BPD/SCZ + AGITATION DECILE'] = 5\n",
    "df_specialty.loc[df_specialty['BPD_SCZ_AGITATION_SCORE percentile'].between(0.6, 0.7, inclusive='right'), 'BPD/SCZ + AGITATION DECILE'] = 4\n",
    "df_specialty.loc[df_specialty['BPD_SCZ_AGITATION_SCORE percentile'].between(0.7, 0.8, inclusive='right'), 'BPD/SCZ + AGITATION DECILE'] = 3\n",
    "df_specialty.loc[df_specialty['BPD_SCZ_AGITATION_SCORE percentile'].between(0.8, 0.9, inclusive='right'), 'BPD/SCZ + AGITATION DECILE'] = 2\n",
    "df_specialty.loc[df_specialty['BPD_SCZ_AGITATION_SCORE percentile'].between(0.9, 1.0, inclusive='right'), 'BPD/SCZ + AGITATION DECILE'] = 1"
   ]
  },
  {
   "cell_type": "code",
   "execution_count": null,
   "metadata": {},
   "outputs": [],
   "source": [
    "df_specialty_subset = df_specialty[['NPI', 'FIRST_NAME__V', 'LAST_NAME__V', 'PRIMARY_SPECIALTY_GROUP__V',\n",
    "       'PRIMARY_SPECIALTY_GROUP__V_desc', 'SPECIALTY_1__V',\n",
    "       'SPECIALTY_1__V_DESC', 'HCP_TYPE__V_DESC', 'ADDRESS_LINE_1__V',\n",
    "       'LOCALITY__V', 'ADMINISTRATIVE_AREA__V', 'POSTAL_CODE__V',\n",
    "       'BPD_CLAIM_COUNT','BPD_SCORE','BPD DECILE', 'SCHIZO_CLAIM_COUNT','SCZ_SCORE', 'SCZ DECILE',\n",
    "       'BPD + SCZ Score','BPD + SCZ Decile' ,'BPD %', 'SCZ %', 'BPD_SCZ_CLAIM_COUNT', 'BPD_SCZ_DECILE',\n",
    "       'AGITATION_CLAIM_COUNT', 'AGITATION_DECILE', 'BPD_SCZ_AGITATION_SCORE',\n",
    "       'BPD/SCZ + AGITATION DECILE', 'RX_SCORE', 'ANTIPSYCHOTICS_IM_IV', 'ANTIPSYCHOTICS_ORALS', \n",
    "       'BENZO - IM_IV', 'BENZO - ORALS' ,'RX_DECILE', 'OVERALL SCORE', 'OVERALL DECILE']]"
   ]
  },
  {
   "cell_type": "code",
   "execution_count": null,
   "metadata": {},
   "outputs": [],
   "source": [
    "df_specialty_subset.to_csv('BPD SCZ Community Dataset v2 (11-14-2022).csv')"
   ]
  },
  {
   "cell_type": "code",
   "execution_count": null,
   "metadata": {},
   "outputs": [],
   "source": [
    "df_specialty_subset.columns"
   ]
  },
  {
   "cell_type": "code",
   "execution_count": null,
   "metadata": {},
   "outputs": [],
   "source": [
    "df_specialty_subset.BPD_SCORE.sum()"
   ]
  },
  {
   "cell_type": "code",
   "execution_count": null,
   "metadata": {},
   "outputs": [],
   "source": [
    "df_specialty_subset.SCZ_SCORE.sum()"
   ]
  },
  {
   "cell_type": "code",
   "execution_count": null,
   "metadata": {},
   "outputs": [],
   "source": [
    "df_specialty_subset['BPD + SCZ Score'].sum()"
   ]
  },
  {
   "cell_type": "code",
   "execution_count": null,
   "metadata": {},
   "outputs": [],
   "source": [
    "df_specialty_subset['BPD_SCZ_AGITATION_SCORE'].sum()"
   ]
  },
  {
   "cell_type": "code",
   "execution_count": null,
   "metadata": {},
   "outputs": [],
   "source": [
    "df_specialty_subset['RX_SCORE'].sum()"
   ]
  },
  {
   "cell_type": "code",
   "execution_count": null,
   "metadata": {},
   "outputs": [],
   "source": [
    "df_specialty_subset['OVERALL SCORE'].sum()"
   ]
  },
  {
   "cell_type": "code",
   "execution_count": null,
   "metadata": {},
   "outputs": [],
   "source": [
    "df = pd.read_csv('Alzhiemers Community Data Set v1 (12-2-2022) Sensitivity Analysis.csv', low_memory=False)"
   ]
  },
  {
   "cell_type": "code",
   "execution_count": null,
   "metadata": {},
   "outputs": [],
   "source": [
    "specialty_list = ['Cardiology','Surgery','Behavioral Health & Social Services','Psychology',\n",
    "'Physical Medicine & Rehabilitation','Emergency Medicine','Geriatric Medicine',\n",
    "'Psychiatry & Neurology','Internal Medicine','Family Medicine']"
   ]
  },
  {
   "cell_type": "code",
   "execution_count": null,
   "metadata": {},
   "outputs": [],
   "source": [
    "df_specialty = df.loc[(df['PRIMARY_SPECIALTY_GROUP__V_desc'].isna()) | (df['PRIMARY_SPECIALTY_GROUP__V_desc'].isin(specialty_list))]\n"
   ]
  },
  {
   "cell_type": "code",
   "execution_count": null,
   "metadata": {},
   "outputs": [],
   "source": [
    "df_specialty['BENZO - IM_IV'] = df_specialty['BENZO - IM_IV'].fillna(0)"
   ]
  },
  {
   "cell_type": "code",
   "execution_count": null,
   "metadata": {},
   "outputs": [],
   "source": [
    "df_specialty['BENZO - ORALS'] = df_specialty['BENZO - ORALS'].fillna(0)"
   ]
  },
  {
   "cell_type": "code",
   "execution_count": null,
   "metadata": {},
   "outputs": [],
   "source": [
    "df_specialty = \\\n",
    "df_specialty.loc[~((df_specialty['ANTIPSYCHOTICS_IM_IV'] == 0) & (df_specialty['ANTIPSYCHOTICS_ORALS'] == 0) & \\\n",
    "             (df_specialty['BENZO - IM_IV'] == 0) & (df_specialty['BENZO - ORALS'] == 0))]"
   ]
  },
  {
   "cell_type": "code",
   "execution_count": null,
   "metadata": {},
   "outputs": [],
   "source": []
  },
  {
   "cell_type": "code",
   "execution_count": null,
   "metadata": {},
   "outputs": [],
   "source": [
    "ad_claim_count_sum = df_specialty['ALZHEIMERS_CLAIM_COUNT'].sum()\n",
    "df_specialty['ALZHEIMERS_SCORE'] = df_specialty['ALZHEIMERS_CLAIM_COUNT']/ad_claim_count_sum"
   ]
  },
  {
   "cell_type": "code",
   "execution_count": null,
   "metadata": {},
   "outputs": [],
   "source": [
    "df_specialty = df_specialty.sort_values(by = 'ALZHEIMERS_SCORE', ascending = False)\n",
    "df_specialty['ALZHEIMERS_SCORE Cumsum'] = df_specialty['ALZHEIMERS_SCORE'].cumsum()\n",
    "df_specialty['ALZHEIMERS_SCORE percentile'] = df_specialty['ALZHEIMERS_SCORE Cumsum']/1\n",
    "df_specialty['ALZHEIMERS_DECILE'] = 0\n",
    "df_specialty.loc[df_specialty['ALZHEIMERS_SCORE percentile'].between(0, 0.1, inclusive='right'), 'ALZHEIMERS_DECILE'] = 10\n",
    "df_specialty.loc[df_specialty['ALZHEIMERS_SCORE percentile'].between(0.1, 0.2, inclusive='right'), 'ALZHEIMERS_DECILE'] = 9\n",
    "df_specialty.loc[df_specialty['ALZHEIMERS_SCORE percentile'].between(0.2, 0.3, inclusive='right'), 'ALZHEIMERS_DECILE'] = 8\n",
    "df_specialty.loc[df_specialty['ALZHEIMERS_SCORE percentile'].between(0.3, 0.4, inclusive='right'), 'ALZHEIMERS_DECILE'] = 7\n",
    "df_specialty.loc[df_specialty['ALZHEIMERS_SCORE percentile'].between(0.4, 0.5, inclusive='right'), 'ALZHEIMERS_DECILE'] = 6\n",
    "df_specialty.loc[df_specialty['ALZHEIMERS_SCORE percentile'].between(0.5, 0.6, inclusive='right'), 'ALZHEIMERS_DECILE'] = 5\n",
    "df_specialty.loc[df_specialty['ALZHEIMERS_SCORE percentile'].between(0.6, 0.7, inclusive='right'), 'ALZHEIMERS_DECILE'] = 4\n",
    "df_specialty.loc[df_specialty['ALZHEIMERS_SCORE percentile'].between(0.7, 0.8, inclusive='right'), 'ALZHEIMERS_DECILE'] = 3\n",
    "df_specialty.loc[df_specialty['ALZHEIMERS_SCORE percentile'].between(0.8, 0.9, inclusive='right'), 'ALZHEIMERS_DECILE'] = 2\n",
    "df_specialty.loc[df_specialty['ALZHEIMERS_SCORE percentile'].between(0.9, 1.0, inclusive='right'), 'ALZHEIMERS_DECILE'] = 1"
   ]
  },
  {
   "cell_type": "code",
   "execution_count": null,
   "metadata": {},
   "outputs": [],
   "source": [
    "ANTIPSYCHOTICS_IM_IV_sum = df_specialty['ANTIPSYCHOTICS_IM_IV'].sum()\n",
    "ANTIPSYCHOTICS_ORALS_sum = df_specialty['ANTIPSYCHOTICS_ORALS'].sum()\n",
    "BENZO_IM_IV_sum = df_specialty['BENZO - IM_IV'].sum()\n",
    "BENZO_ORALS_sum = df_specialty['BENZO - ORALS'].sum()"
   ]
  },
  {
   "cell_type": "code",
   "execution_count": null,
   "metadata": {},
   "outputs": [],
   "source": [
    "df_specialty['RX_SCORE'] = 0.44*(df_specialty['ANTIPSYCHOTICS_IM_IV']/ANTIPSYCHOTICS_IM_IV_sum) + \\\n",
    "                            0.19*(df_specialty['ANTIPSYCHOTICS_ORALS']/ANTIPSYCHOTICS_ORALS_sum) + \\\n",
    "                            0.27*(df_specialty['BENZO - IM_IV']/BENZO_IM_IV_sum) + \\\n",
    "                            0.10*(df_specialty['BENZO - ORALS']/BENZO_ORALS_sum) "
   ]
  },
  {
   "cell_type": "code",
   "execution_count": null,
   "metadata": {},
   "outputs": [],
   "source": [
    "df_specialty = df_specialty.sort_values(by = 'RX_SCORE', ascending = False)\n",
    "df_specialty['RX_SCORE Cumsum'] = df_specialty['RX_SCORE'].cumsum()\n",
    "df_specialty['RX_SCORE percentile'] = df_specialty['RX_SCORE Cumsum']/df_specialty['RX_SCORE'].sum()\n",
    "df_specialty['RX_DECILE'] = 0\n",
    "df_specialty.loc[df_specialty['RX_SCORE percentile'].between(0, 0.1, inclusive='right'), 'RX_DECILE'] = 10\n",
    "df_specialty.loc[df_specialty['RX_SCORE percentile'].between(0.1, 0.2, inclusive='right'), 'RX_DECILE'] = 9\n",
    "df_specialty.loc[df_specialty['RX_SCORE percentile'].between(0.2, 0.3, inclusive='right'), 'RX_DECILE'] = 8\n",
    "df_specialty.loc[df_specialty['RX_SCORE percentile'].between(0.3, 0.4, inclusive='right'), 'RX_DECILE'] = 7\n",
    "df_specialty.loc[df_specialty['RX_SCORE percentile'].between(0.4, 0.5, inclusive='right'), 'RX_DECILE'] = 6\n",
    "df_specialty.loc[df_specialty['RX_SCORE percentile'].between(0.5, 0.6, inclusive='right'), 'RX_DECILE'] = 5\n",
    "df_specialty.loc[df_specialty['RX_SCORE percentile'].between(0.6, 0.7, inclusive='right'), 'RX_DECILE'] = 4\n",
    "df_specialty.loc[df_specialty['RX_SCORE percentile'].between(0.7, 0.8, inclusive='right'), 'RX_DECILE'] = 3\n",
    "df_specialty.loc[df_specialty['RX_SCORE percentile'].between(0.8, 0.9, inclusive='right'), 'RX_DECILE'] = 2\n",
    "df_specialty.loc[df_specialty['RX_SCORE percentile'].between(0.9, 1.0, inclusive='right'), 'RX_DECILE'] = 1"
   ]
  },
  {
   "cell_type": "code",
   "execution_count": null,
   "metadata": {},
   "outputs": [],
   "source": [
    "df_specialty['OVERALL_SCORE'] = 0.5*df_specialty['ALZHEIMERS_SCORE'] + 0.5*df_specialty['RX_SCORE']"
   ]
  },
  {
   "cell_type": "code",
   "execution_count": null,
   "metadata": {},
   "outputs": [],
   "source": [
    "df_specialty = df_specialty.sort_values(by = 'OVERALL_SCORE', ascending = False)\n",
    "df_specialty['OVERALL SCORE Cumsum'] = df_specialty['OVERALL_SCORE'].cumsum()\n",
    "df_specialty['OVERALL SCORE percentile'] = df_specialty['OVERALL SCORE Cumsum']/df_specialty['OVERALL_SCORE'].sum()\n",
    "df_specialty['OVERALL_DECILE'] = 0\n",
    "df_specialty.loc[df_specialty['OVERALL SCORE percentile'].between(0, 0.1, inclusive='right'), 'OVERALL_DECILE'] = 10\n",
    "df_specialty.loc[df_specialty['OVERALL SCORE percentile'].between(0.1, 0.2, inclusive='right'), 'OVERALL_DECILE'] = 9\n",
    "df_specialty.loc[df_specialty['OVERALL SCORE percentile'].between(0.2, 0.3, inclusive='right'), 'OVERALL_DECILE'] = 8\n",
    "df_specialty.loc[df_specialty['OVERALL SCORE percentile'].between(0.3, 0.4, inclusive='right'), 'OVERALL_DECILE'] = 7\n",
    "df_specialty.loc[df_specialty['OVERALL SCORE percentile'].between(0.4, 0.5, inclusive='right'), 'OVERALL_DECILE'] = 6\n",
    "df_specialty.loc[df_specialty['OVERALL SCORE percentile'].between(0.5, 0.6, inclusive='right'), 'OVERALL_DECILE'] = 5\n",
    "df_specialty.loc[df_specialty['OVERALL SCORE percentile'].between(0.6, 0.7, inclusive='right'), 'OVERALL_DECILE'] = 4\n",
    "df_specialty.loc[df_specialty['OVERALL SCORE percentile'].between(0.7, 0.8, inclusive='right'), 'OVERALL_DECILE'] = 3\n",
    "df_specialty.loc[df_specialty['OVERALL SCORE percentile'].between(0.8, 0.9, inclusive='right'), 'OVERALL_DECILE'] = 2\n",
    "df_specialty.loc[df_specialty['OVERALL SCORE percentile'].between(0.9, 1.0, inclusive='right'), 'OVERALL_DECILE'] = 1"
   ]
  },
  {
   "cell_type": "code",
   "execution_count": null,
   "metadata": {},
   "outputs": [],
   "source": [
    "agitation_claim_count_sum = df_specialty['AGITATION_CLAIM_COUNT'].sum()"
   ]
  },
  {
   "cell_type": "code",
   "execution_count": null,
   "metadata": {},
   "outputs": [],
   "source": [
    "df_specialty['AGITATION_SCORE'] = df_specialty['AGITATION_CLAIM_COUNT']/agitation_claim_count_sum"
   ]
  },
  {
   "cell_type": "code",
   "execution_count": null,
   "metadata": {},
   "outputs": [],
   "source": [
    "df_specialty = df_specialty.sort_values(by = 'AGITATION_SCORE', ascending = False)\n",
    "df_specialty['AGITATION_SCORE Cumsum'] = df_specialty['AGITATION_SCORE'].cumsum()\n",
    "df_specialty['AGITATION_SCORE percentile'] = df_specialty['AGITATION_SCORE Cumsum']/1\n",
    "df_specialty['AGITATION_decile'] = 0\n",
    "df_specialty.loc[df_specialty['ALZHEIMERS_SCORE percentile'].between(0, 0.1, inclusive='right'), 'AGITATION_decile'] = 10\n",
    "df_specialty.loc[df_specialty['ALZHEIMERS_SCORE percentile'].between(0.1, 0.2, inclusive='right'), 'AGITATION_decile'] = 9\n",
    "df_specialty.loc[df_specialty['ALZHEIMERS_SCORE percentile'].between(0.2, 0.3, inclusive='right'), 'AGITATION_decile'] = 8\n",
    "df_specialty.loc[df_specialty['ALZHEIMERS_SCORE percentile'].between(0.3, 0.4, inclusive='right'), 'AGITATION_decile'] = 7\n",
    "df_specialty.loc[df_specialty['ALZHEIMERS_SCORE percentile'].between(0.4, 0.5, inclusive='right'), 'AGITATION_decile'] = 6\n",
    "df_specialty.loc[df_specialty['ALZHEIMERS_SCORE percentile'].between(0.5, 0.6, inclusive='right'), 'AGITATION_decile'] = 5\n",
    "df_specialty.loc[df_specialty['ALZHEIMERS_SCORE percentile'].between(0.6, 0.7, inclusive='right'), 'AGITATION_decile'] = 4\n",
    "df_specialty.loc[df_specialty['ALZHEIMERS_SCORE percentile'].between(0.7, 0.8, inclusive='right'), 'AGITATION_decile'] = 3\n",
    "df_specialty.loc[df_specialty['ALZHEIMERS_SCORE percentile'].between(0.8, 0.9, inclusive='right'), 'AGITATION_decile'] = 2\n",
    "df_specialty.loc[df_specialty['ALZHEIMERS_SCORE percentile'].between(0.9, 1.0, inclusive='right'), 'AGITATION_decile'] = 1\n"
   ]
  },
  {
   "cell_type": "code",
   "execution_count": null,
   "metadata": {},
   "outputs": [],
   "source": [
    "df_specialty[df_specialty.OVERALL_DECILE == 0]"
   ]
  },
  {
   "cell_type": "code",
   "execution_count": null,
   "metadata": {},
   "outputs": [],
   "source": [
    "df_specialty[df_specialty.OVERALL_DECILE >= 6]"
   ]
  },
  {
   "cell_type": "code",
   "execution_count": null,
   "metadata": {},
   "outputs": [],
   "source": [
    "df_specialty[df_specialty.OVERALL_DECILE >= 6]"
   ]
  },
  {
   "cell_type": "code",
   "execution_count": null,
   "metadata": {},
   "outputs": [],
   "source": [
    "df_specialty.columns"
   ]
  },
  {
   "cell_type": "code",
   "execution_count": null,
   "metadata": {},
   "outputs": [],
   "source": [
    "df_specialty_subset = df_specialty[['NPI', 'FIRST_NAME__V', 'LAST_NAME__V', 'PRIMARY_SPECIALTY_GROUP__V',\n",
    "       'PRIMARY_SPECIALTY_GROUP__V_desc', 'SPECIALTY_1__V',\n",
    "       'SPECIALTY_1__V_DESC', 'HCP_TYPE__V_DESC', 'ADDRESS_LINE_1__V',\n",
    "       'LOCALITY__V', 'ADMINISTRATIVE_AREA__V', 'POSTAL_CODE__V',\n",
    "       'ALZHEIMERS_CLAIM_COUNT', 'ALZHEIMERS_DECILE', 'ALZHEIMERS_SCORE', 'AGITATION_CLAIM_COUNT',\n",
    "       'AGITATION_decile', 'ANTIPSYCHOTICS_IM_IV',\n",
    "       'ANTIPSYCHOTICS_ORALS', 'BENZO - IM_IV', 'BENZO - ORALS', 'RX_SCORE',\n",
    "       'RX_DECILE', 'OVERALL_SCORE', 'OVERALL_DECILE']]"
   ]
  },
  {
   "cell_type": "code",
   "execution_count": null,
   "metadata": {},
   "outputs": [],
   "source": [
    "df_specialty_subset.to_csv('AD Community Dataset v1 (12-02-2022).csv')"
   ]
  },
  {
   "cell_type": "code",
   "execution_count": null,
   "metadata": {},
   "outputs": [],
   "source": [
    "len(df_specialty_subset.PRIMARY_SPECIALTY_GROUP__V_desc.unique())"
   ]
  },
  {
   "cell_type": "code",
   "execution_count": null,
   "metadata": {},
   "outputs": [],
   "source": [
    "df_v2_specialty.columns"
   ]
  },
  {
   "cell_type": "code",
   "execution_count": null,
   "metadata": {},
   "outputs": [],
   "source": [
    "len(df_v2_specialty[['NPI', 'BPD + SCZ Decile']])\n"
   ]
  },
  {
   "cell_type": "code",
   "execution_count": null,
   "metadata": {},
   "outputs": [],
   "source": [
    "len(df_specialty_subset[['NPI','ALZHEIMERS_DECILE']])"
   ]
  },
  {
   "cell_type": "code",
   "execution_count": null,
   "metadata": {},
   "outputs": [],
   "source": [
    "pd.merge(df_v2_specialty.loc[df_v2_specialty['BPD + SCZ Decile'] >= 3, 'NPI'], \\\n",
    "         df_specialty_subset.loc[df_specialty_subset['ALZHEIMERS_DECILE'] >= 3, 'NPI'], how = 'inner')"
   ]
  },
  {
   "cell_type": "code",
   "execution_count": null,
   "metadata": {
    "scrolled": true
   },
   "outputs": [],
   "source": [
    "pd.merge(df_v2_specialty.loc[df_v2_specialty['BPD + SCZ Decile'] >= 3, 'NPI'], \\\n",
    "         df_specialty_subset.loc[df_specialty_subset['ALZHEIMERS_DECILE'] >= 3, 'NPI'], how = 'outer')"
   ]
  },
  {
   "cell_type": "code",
   "execution_count": null,
   "metadata": {},
   "outputs": [],
   "source": [
    "5378/36349"
   ]
  },
  {
   "cell_type": "code",
   "execution_count": null,
   "metadata": {},
   "outputs": [],
   "source": [
    "All = pd.merge(df_v2_specialty[['NPI', 'BPD + SCZ Decile']], df_specialty_subset, how='outer')"
   ]
  },
  {
   "cell_type": "code",
   "execution_count": null,
   "metadata": {},
   "outputs": [],
   "source": [
    "All = pd.merge(df_v2_specialty[['NPI', 'BPD + SCZ Decile']], df_specialty_subset[['NPI', 'ALZHEIMERS_DECILE']], \\\n",
    "               on='NPI', how='outer')"
   ]
  },
  {
   "cell_type": "code",
   "execution_count": null,
   "metadata": {},
   "outputs": [],
   "source": [
    "All[(All['BPD + SCZ Decile'] >= 3) & (All['ALZHEIMERS_DECILE'] >= 3)]"
   ]
  },
  {
   "cell_type": "code",
   "execution_count": null,
   "metadata": {},
   "outputs": [],
   "source": [
    "BPD_SCZ_AD_TBL = pd.merge(df_v2_specialty[['NPI', 'BPD + SCZ Decile']], df_specialty_subset, \\\n",
    "                                         on='NPI', how='inner')\n"
   ]
  },
  {
   "cell_type": "code",
   "execution_count": null,
   "metadata": {},
   "outputs": [],
   "source": [
    "92110/198963"
   ]
  },
  {
   "cell_type": "code",
   "execution_count": null,
   "metadata": {},
   "outputs": [],
   "source": [
    "BPD_SCZ_AD_TBL.to_csv('BPD_SCZ_AD_deciles.csv')"
   ]
  },
  {
   "cell_type": "code",
   "execution_count": null,
   "metadata": {},
   "outputs": [],
   "source": [
    "BPD_SCZ_AD_TBL[(BPD_SCZ_AD_TBL['BPD + SCZ Decile'] >= 3) & (BPD_SCZ_AD_TBL['ALZHEIMERS_DECILE'] >= 3)]"
   ]
  },
  {
   "cell_type": "code",
   "execution_count": null,
   "metadata": {},
   "outputs": [],
   "source": [
    "BPD_SCZ_AD_TBL"
   ]
  },
  {
   "cell_type": "code",
   "execution_count": null,
   "metadata": {},
   "outputs": [],
   "source": []
  }
 ],
 "metadata": {
  "kernelspec": {
   "display_name": "Python 3 (ipykernel)",
   "language": "python",
   "name": "python3"
  },
  "language_info": {
   "codemirror_mode": {
    "name": "ipython",
    "version": 3
   },
   "file_extension": ".py",
   "mimetype": "text/x-python",
   "name": "python",
   "nbconvert_exporter": "python",
   "pygments_lexer": "ipython3",
   "version": "3.8.15"
  }
 },
 "nbformat": 4,
 "nbformat_minor": 4
}
